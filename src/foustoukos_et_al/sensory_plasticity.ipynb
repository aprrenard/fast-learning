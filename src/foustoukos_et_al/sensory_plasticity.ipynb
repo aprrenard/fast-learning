{
 "cells": [
  {
   "cell_type": "code",
   "execution_count": 1,
   "metadata": {},
   "outputs": [],
   "source": [
    "import os\n",
    "import pickle\n",
    "import sys\n",
    "\n",
    "import matplotlib.pyplot as plt\n",
    "import numpy as np\n",
    "import pandas as pd\n",
    "import seaborn as sns\n",
    "from matplotlib import colors\n",
    "from scipy.stats import mannwhitneyu, wilcoxon\n",
    "from sklearn.metrics import auc, roc_curve\n",
    "from sklearn.utils import shuffle\n",
    "\n",
    "sys.path.append(r'H:/anthony/repos/NWB_analysis')\n",
    "from matplotlib.backends.backend_pdf import PdfPages\n",
    "from nwb_wrappers import nwb_reader_functions as nwb_read\n",
    "\n",
    "import src.utils.utils_imaging as imaging_utils\n",
    "import src.utils.utils_io as io\n",
    "from src.behavior import compute_performance, plot_single_session\n",
    "\n",
    "# Set plot parameters.\n",
    "plt.rcParams['pdf.fonttype'] = 42\n",
    "plt.rcParams['ps.fonttype'] = 42\n",
    "plt.rcParams['svg.fonttype'] = 'none'"
   ]
  },
  {
   "cell_type": "code",
   "execution_count": 2,
   "metadata": {},
   "outputs": [],
   "source": [
    "# Path to the directory containing the processed data.\n",
    "processed_dir = r\"//sv-nas1.rcp.epfl.ch/Petersen-Lab/analysis/Anthony_Renard/data_processed/mice\"\n",
    "nwb_dir = r\"//sv-nas1.rcp.epfl.ch/Petersen-Lab/analysis/Anthony_Renard/NWB\"\n",
    "\n",
    "# Session metadata file.\n",
    "db_path = r\"//sv-nas1.rcp.epfl.ch/Petersen-Lab/analysis/Anthony_Renard/mice_info/session_metadata.xlsx\"\n",
    "\n",
    "# # Rewarded and non-rewarded NWB files.\n",
    "# group_yaml_rew = r\"//sv-nas1.rcp.epfl.ch/Petersen-Lab/analysis/Anthony_Renard/mice_info/groups/imaging_rewarded.yaml\"\n",
    "# group_yaml_non_rew = r\"//sv-nas1.rcp.epfl.ch/Petersen-Lab/analysis/Anthony_Renard/mice_info/groups/imaging_non_rewarded.yaml\"\n",
    "# nwb_list_rew = io.read_group_yaml(group_yaml_rew)\n",
    "# nwb_list_non_rew = io.read_group_yaml(group_yaml_non_rew)\n",
    "# nwb_list = nwb_list_rew + nwb_list_non_rew"
   ]
  },
  {
   "cell_type": "markdown",
   "metadata": {},
   "source": [
    "## 1. Response to sensory mapping trials across learning\n",
    "\n",
    "Here I look at the evolution of the response of the population across learning day. This is computed on the 50 whisker stimulation presentated at the end of each session after disengagement.\n",
    "\n",
    "- PSTH\n",
    "- amplitude of the population response\n",
    "- number of responsive neurons\n",
    "- stability of the response\n",
    "\n"
   ]
  },
  {
   "cell_type": "markdown",
   "metadata": {},
   "source": [
    "### 1.1. Amplitude of the response across learning days."
   ]
  },
  {
   "cell_type": "markdown",
   "metadata": {},
   "source": [
    "### 1.2. Correlation matrices and responsive similarity across learning."
   ]
  },
  {
   "cell_type": "code",
   "execution_count": 31,
   "metadata": {},
   "outputs": [
    {
     "name": "stdout",
     "output_type": "stream",
     "text": [
      "['GF319', 'GF348', 'GF350', 'MI062', 'MI069', 'MI072', 'MI075', 'MI076', 'AR132', 'AR137', 'AR139', 'AR131']\n"
     ]
    },
    {
     "name": "stderr",
     "output_type": "stream",
     "text": [
      "c:\\Users\\aprenard\\Anaconda3\\envs\\fast-learning\\Lib\\site-packages\\openpyxl\\worksheet\\_read_only.py:81: UserWarning: Conditional Formatting extension is not supported and will be removed\n",
      "  for idx, row in parser.parse():\n"
     ]
    }
   ],
   "source": [
    "# Load data needed to compute before and after learning.\n",
    "\n",
    "sampling_rate = 30\n",
    "win = (1, 1.5)  # from stimulus onset to 300 ms after.\n",
    "win = (int(win[0] * sampling_rate), int(win[1] * sampling_rate))\n",
    "baseline_win = (0, 1)\n",
    "baseline_win = (int(baseline_win[0] * sampling_rate), int(baseline_win[1] * sampling_rate))\n",
    "days = ['-2', '-1', '0', '+1', '+2']\n",
    "reward_group = 'R-'\n",
    "\n",
    "_, _, mice, _ = io.select_sessions_from_db(db_path,\n",
    "                                            nwb_dir,\n",
    "                                            two_p_imaging='yes',\n",
    "                                            reward_group=reward_group)\n",
    "print(mice)"
   ]
  },
  {
   "cell_type": "code",
   "execution_count": 32,
   "metadata": {},
   "outputs": [
    {
     "name": "stderr",
     "output_type": "stream",
     "text": [
      "c:\\Users\\aprenard\\Anaconda3\\envs\\fast-learning\\Lib\\site-packages\\openpyxl\\worksheet\\_read_only.py:81: UserWarning: Conditional Formatting extension is not supported and will be removed\n",
      "  for idx, row in parser.parse():\n"
     ]
    },
    {
     "name": "stdout",
     "output_type": "stream",
     "text": [
      "['GF319_24122020_120204', 'GF319_25122020_142951', 'GF319_26122020_144746', 'GF319_27122020_135842', 'GF319_28122020_132438']\n"
     ]
    },
    {
     "name": "stderr",
     "output_type": "stream",
     "text": [
      "C:\\Users\\aprenard\\recherches\\repos\\fast-learning\\src\\utils\\utils_imaging.py:31: RuntimeWarning: Mean of empty slice\n",
      "  baseline = np.nanmean(arr[*slices], axis=time_axis, keepdims=True)\n",
      "c:\\Users\\aprenard\\Anaconda3\\envs\\fast-learning\\Lib\\site-packages\\openpyxl\\worksheet\\_read_only.py:81: UserWarning: Conditional Formatting extension is not supported and will be removed\n",
      "  for idx, row in parser.parse():\n"
     ]
    },
    {
     "name": "stdout",
     "output_type": "stream",
     "text": [
      "['GF348_29052021_100151', 'GF348_30052021_110107', 'GF348_31052021_102411', 'GF348_01062021_095758', 'GF348_02062021_084344']\n"
     ]
    },
    {
     "name": "stderr",
     "output_type": "stream",
     "text": [
      "C:\\Users\\aprenard\\recherches\\repos\\fast-learning\\src\\utils\\utils_imaging.py:31: RuntimeWarning: Mean of empty slice\n",
      "  baseline = np.nanmean(arr[*slices], axis=time_axis, keepdims=True)\n",
      "c:\\Users\\aprenard\\Anaconda3\\envs\\fast-learning\\Lib\\site-packages\\openpyxl\\worksheet\\_read_only.py:81: UserWarning: Conditional Formatting extension is not supported and will be removed\n",
      "  for idx, row in parser.parse():\n"
     ]
    },
    {
     "name": "stdout",
     "output_type": "stream",
     "text": [
      "['GF350_29052021_124022', 'GF350_30052021_123155', 'GF350_31052021_135001', 'GF350_01062021_122420', 'GF350_02062021_142138']\n"
     ]
    },
    {
     "name": "stderr",
     "output_type": "stream",
     "text": [
      "C:\\Users\\aprenard\\recherches\\repos\\fast-learning\\src\\utils\\utils_imaging.py:31: RuntimeWarning: Mean of empty slice\n",
      "  baseline = np.nanmean(arr[*slices], axis=time_axis, keepdims=True)\n",
      "c:\\Users\\aprenard\\Anaconda3\\envs\\fast-learning\\Lib\\site-packages\\openpyxl\\worksheet\\_read_only.py:81: UserWarning: Conditional Formatting extension is not supported and will be removed\n",
      "  for idx, row in parser.parse():\n"
     ]
    },
    {
     "name": "stdout",
     "output_type": "stream",
     "text": [
      "['MI062_30092021_091006', 'MI062_01102021_091233', 'MI062_02102021_105027', 'MI062_03102021_103851', 'MI062_04102021_092339']\n"
     ]
    },
    {
     "name": "stderr",
     "output_type": "stream",
     "text": [
      "C:\\Users\\aprenard\\recherches\\repos\\fast-learning\\src\\utils\\utils_imaging.py:31: RuntimeWarning: Mean of empty slice\n",
      "  baseline = np.nanmean(arr[*slices], axis=time_axis, keepdims=True)\n",
      "c:\\Users\\aprenard\\Anaconda3\\envs\\fast-learning\\Lib\\site-packages\\openpyxl\\worksheet\\_read_only.py:81: UserWarning: Conditional Formatting extension is not supported and will be removed\n",
      "  for idx, row in parser.parse():\n"
     ]
    },
    {
     "name": "stdout",
     "output_type": "stream",
     "text": [
      "['MI069_19122021_100830', 'MI069_20122021_095058', 'MI069_21122021_090648', 'MI069_22122021_090212', 'MI069_23122021_085758']\n"
     ]
    },
    {
     "name": "stderr",
     "output_type": "stream",
     "text": [
      "C:\\Users\\aprenard\\recherches\\repos\\fast-learning\\src\\utils\\utils_imaging.py:31: RuntimeWarning: Mean of empty slice\n",
      "  baseline = np.nanmean(arr[*slices], axis=time_axis, keepdims=True)\n",
      "c:\\Users\\aprenard\\Anaconda3\\envs\\fast-learning\\Lib\\site-packages\\openpyxl\\worksheet\\_read_only.py:81: UserWarning: Conditional Formatting extension is not supported and will be removed\n",
      "  for idx, row in parser.parse():\n"
     ]
    },
    {
     "name": "stdout",
     "output_type": "stream",
     "text": [
      "['MI072_19122021_140553', 'MI072_20122021_125805', 'MI072_21122021_132704', 'MI072_22122021_132651', 'MI072_23122021_132111']\n"
     ]
    },
    {
     "name": "stderr",
     "output_type": "stream",
     "text": [
      "C:\\Users\\aprenard\\recherches\\repos\\fast-learning\\src\\utils\\utils_imaging.py:31: RuntimeWarning: Mean of empty slice\n",
      "  baseline = np.nanmean(arr[*slices], axis=time_axis, keepdims=True)\n",
      "c:\\Users\\aprenard\\Anaconda3\\envs\\fast-learning\\Lib\\site-packages\\openpyxl\\worksheet\\_read_only.py:81: UserWarning: Conditional Formatting extension is not supported and will be removed\n",
      "  for idx, row in parser.parse():\n"
     ]
    },
    {
     "name": "stdout",
     "output_type": "stream",
     "text": [
      "['MI075_19122021_152533', 'MI075_20122021_155245', 'MI075_21122021_151949', 'MI075_22122021_152806', 'MI075_23122021_150004']\n"
     ]
    },
    {
     "name": "stderr",
     "output_type": "stream",
     "text": [
      "C:\\Users\\aprenard\\recherches\\repos\\fast-learning\\src\\utils\\utils_imaging.py:31: RuntimeWarning: Mean of empty slice\n",
      "  baseline = np.nanmean(arr[*slices], axis=time_axis, keepdims=True)\n",
      "c:\\Users\\aprenard\\Anaconda3\\envs\\fast-learning\\Lib\\site-packages\\openpyxl\\worksheet\\_read_only.py:81: UserWarning: Conditional Formatting extension is not supported and will be removed\n",
      "  for idx, row in parser.parse():\n"
     ]
    },
    {
     "name": "stdout",
     "output_type": "stream",
     "text": [
      "['MI076_19122021_120004', 'MI076_20122021_113038', 'MI076_21122021_112146', 'MI076_22122021_114039', 'MI076_23122021_113818']\n"
     ]
    },
    {
     "name": "stderr",
     "output_type": "stream",
     "text": [
      "C:\\Users\\aprenard\\recherches\\repos\\fast-learning\\src\\utils\\utils_imaging.py:31: RuntimeWarning: Mean of empty slice\n",
      "  baseline = np.nanmean(arr[*slices], axis=time_axis, keepdims=True)\n",
      "c:\\Users\\aprenard\\Anaconda3\\envs\\fast-learning\\Lib\\site-packages\\openpyxl\\worksheet\\_read_only.py:81: UserWarning: Conditional Formatting extension is not supported and will be removed\n",
      "  for idx, row in parser.parse():\n"
     ]
    },
    {
     "name": "stdout",
     "output_type": "stream",
     "text": [
      "['AR132_20240424_112338', 'AR132_20240425_102625', 'AR132_20240426_093953', 'AR132_20240427_122605', 'AR132_20240428_122206']\n"
     ]
    },
    {
     "name": "stderr",
     "output_type": "stream",
     "text": [
      "C:\\Users\\aprenard\\recherches\\repos\\fast-learning\\src\\utils\\utils_imaging.py:31: RuntimeWarning: Mean of empty slice\n",
      "  baseline = np.nanmean(arr[*slices], axis=time_axis, keepdims=True)\n",
      "c:\\Users\\aprenard\\Anaconda3\\envs\\fast-learning\\Lib\\site-packages\\openpyxl\\worksheet\\_read_only.py:81: UserWarning: Conditional Formatting extension is not supported and will be removed\n",
      "  for idx, row in parser.parse():\n"
     ]
    },
    {
     "name": "stdout",
     "output_type": "stream",
     "text": [
      "['AR137_20240424_172627', 'AR137_20240425_170755', 'AR137_20240426_152510', 'AR137_20240427_171535', 'AR137_20240428_163224']\n"
     ]
    },
    {
     "name": "stderr",
     "output_type": "stream",
     "text": [
      "C:\\Users\\aprenard\\recherches\\repos\\fast-learning\\src\\utils\\utils_imaging.py:31: RuntimeWarning: Mean of empty slice\n",
      "  baseline = np.nanmean(arr[*slices], axis=time_axis, keepdims=True)\n",
      "c:\\Users\\aprenard\\Anaconda3\\envs\\fast-learning\\Lib\\site-packages\\openpyxl\\worksheet\\_read_only.py:81: UserWarning: Conditional Formatting extension is not supported and will be removed\n",
      "  for idx, row in parser.parse():\n"
     ]
    },
    {
     "name": "stdout",
     "output_type": "stream",
     "text": [
      "['AR139_20240424_185913', 'AR139_20240425_181627', 'AR139_20240426_165725', 'AR139_20240427_183701', 'AR139_20240428_180459']\n"
     ]
    },
    {
     "name": "stderr",
     "output_type": "stream",
     "text": [
      "C:\\Users\\aprenard\\recherches\\repos\\fast-learning\\src\\utils\\utils_imaging.py:31: RuntimeWarning: Mean of empty slice\n",
      "  baseline = np.nanmean(arr[*slices], axis=time_axis, keepdims=True)\n",
      "c:\\Users\\aprenard\\Anaconda3\\envs\\fast-learning\\Lib\\site-packages\\openpyxl\\worksheet\\_read_only.py:81: UserWarning: Conditional Formatting extension is not supported and will be removed\n",
      "  for idx, row in parser.parse():\n"
     ]
    },
    {
     "name": "stdout",
     "output_type": "stream",
     "text": [
      "['AR131_20240301_145952', 'AR131_20240302_123034', 'AR131_20240303_171032', 'AR131_20240304_133332', 'AR131_20240305_140141']\n"
     ]
    },
    {
     "name": "stderr",
     "output_type": "stream",
     "text": [
      "C:\\Users\\aprenard\\recherches\\repos\\fast-learning\\src\\utils\\utils_imaging.py:31: RuntimeWarning: Mean of empty slice\n",
      "  baseline = np.nanmean(arr[*slices], axis=time_axis, keepdims=True)\n"
     ]
    }
   ],
   "source": [
    "output_dir = r'//sv-nas1.rcp.epfl.ch/Petersen-Lab/analysis/Anthony_Renard/analysis_output/sensory_plasticity'\n",
    "pdf_file = f'correlation_matrices_{reward_group}.pdf'\n",
    "with PdfPages(os.path.join(output_dir, pdf_file)) as pdf:\n",
    "    for mouse_id in mice:\n",
    "        session_list, nwb_files, _, db_filtered = io.select_sessions_from_db(db_path,\n",
    "                                                                            nwb_dir,\n",
    "                                                                            two_p_imaging='yes',\n",
    "                                                                            subject_id=mouse_id,\n",
    "                                                                            day=days,)\n",
    "        print(session_list)\n",
    "        data = []\n",
    "        for session_id in session_list:\n",
    "            arr, metadata = imaging_utils.load_session_2p_imaging(mouse_id,\n",
    "                                                                session_id,\n",
    "                                                                processed_dir)\n",
    "            arr = imaging_utils.substract_baseline(arr, 3, baseline_win)\n",
    "            data.append(arr)\n",
    "\n",
    "        # Select UM trials.\n",
    "        data = [arr[:, -1] for arr in data]\n",
    "        # Remove trials with NaNs.\n",
    "        data = [arr[:, ~np.isnan(arr).all(axis=(0,2))] for arr in data]\n",
    "\n",
    "        # Compute average response for each trial, each day.\n",
    "        response_avg = []\n",
    "        for day in data:\n",
    "            response_avg.append(np.nanmean(day[:, :, win[0]:win[1]], axis=2))\n",
    "\n",
    "        # Compute average response amplitude for each cell across days.\n",
    "        response_amplitude = []\n",
    "        for day in response_avg:\n",
    "            response_amplitude.append(np.nanmean(day, axis=1))\n",
    "        response_amplitude = np.stack(response_amplitude, axis=0)\n",
    "        population_response[0, :] = np.mean(response_amplitude, axis=1)\n",
    "\n",
    "\n",
    "        corr_matrix = np.concatenate(response_avg, axis=1)\n",
    "        corr_matrix = np.corrcoef(corr_matrix.T)\n",
    "        # Remove diagonal for visualization.\n",
    "        np.fill_diagonal(corr_matrix, 0)\n",
    "\n",
    "        plt.figure()\n",
    "        # vmin=-1\n",
    "        # vmax=1\n",
    "        # plt.imshow(corr_matrix, vmin=vmin, vmax=vmax)\n",
    "        plt.imshow(corr_matrix)\n",
    "        n_trials = [arr.shape[1] for arr in data]\n",
    "        for i in np.cumsum(n_trials)[:-1]:\n",
    "            plt.axvline(x=i, color='#252525', linestyle='-', lw=0.5)\n",
    "            plt.axhline(y=i, color='#252525', linestyle='-', lw=0.5)\n",
    "        plt.title(mouse_id)\n",
    "        plt.colorbar()\n",
    "        pdf.savefig(dpi=300)\n",
    "        plt.close()"
   ]
  },
  {
   "cell_type": "markdown",
   "metadata": {},
   "source": [
    "Make common matrix for the whole population.\n",
    "\n",
    "One for each reward group. Also look at the difference between GF and AR."
   ]
  },
  {
   "cell_type": "code",
   "execution_count": 52,
   "metadata": {},
   "outputs": [
    {
     "name": "stdout",
     "output_type": "stream",
     "text": [
      "['GF305', 'GF306', 'GF307', 'GF308', 'GF310', 'GF311', 'GF313', 'GF314', 'GF317', 'GF318', 'GF323', 'GF333', 'GF334', 'AR133', 'AR135', 'AR127', 'AR143', 'AR144']\n"
     ]
    },
    {
     "name": "stderr",
     "output_type": "stream",
     "text": [
      "c:\\Users\\aprenard\\Anaconda3\\envs\\fast-learning\\Lib\\site-packages\\openpyxl\\worksheet\\_read_only.py:81: UserWarning: Conditional Formatting extension is not supported and will be removed\n",
      "  for idx, row in parser.parse():\n"
     ]
    }
   ],
   "source": [
    "# Load data needed to compute before and after learning.\n",
    "\n",
    "sampling_rate = 30\n",
    "win = (1, 1.5)  # from stimulus onset to 300 ms after.\n",
    "win = (int(win[0] * sampling_rate), int(win[1] * sampling_rate))\n",
    "baseline_win = (0, 1)\n",
    "baseline_win = (int(baseline_win[0] * sampling_rate), int(baseline_win[1] * sampling_rate))\n",
    "days = ['-2', '-1', '0', '+1', '+2']\n",
    "reward_group = 'R+'\n",
    "\n",
    "_, _, mice, _ = io.select_sessions_from_db(db_path,\n",
    "                                            nwb_dir,\n",
    "                                            two_p_imaging='yes',\n",
    "                                            reward_group=reward_group)\n",
    "print(mice)\n"
   ]
  },
  {
   "cell_type": "code",
   "execution_count": 60,
   "metadata": {},
   "outputs": [
    {
     "name": "stderr",
     "output_type": "stream",
     "text": [
      "c:\\Users\\aprenard\\Anaconda3\\envs\\fast-learning\\Lib\\site-packages\\openpyxl\\worksheet\\_read_only.py:81: UserWarning: Conditional Formatting extension is not supported and will be removed\n",
      "  for idx, row in parser.parse():\n"
     ]
    },
    {
     "name": "stdout",
     "output_type": "stream",
     "text": [
      "['GF305_27112020_083119', 'GF305_28112020_103938', 'GF305_29112020_103331', 'GF305_30112020_110255', 'GF305_02122020_132229']\n"
     ]
    },
    {
     "name": "stderr",
     "output_type": "stream",
     "text": [
      "C:\\Users\\aprenard\\recherches\\repos\\fast-learning\\src\\utils\\utils_imaging.py:31: RuntimeWarning: Mean of empty slice\n",
      "  baseline = np.nanmean(arr[*slices], axis=time_axis, keepdims=True)\n",
      "c:\\Users\\aprenard\\Anaconda3\\envs\\fast-learning\\Lib\\site-packages\\openpyxl\\worksheet\\_read_only.py:81: UserWarning: Conditional Formatting extension is not supported and will be removed\n",
      "  for idx, row in parser.parse():\n"
     ]
    },
    {
     "name": "stdout",
     "output_type": "stream",
     "text": [
      "['GF306_27112020_104436', 'GF306_28112020_125555', 'GF306_29112020_131929', 'GF306_30112020_133249', 'GF306_02122020_161611']\n"
     ]
    },
    {
     "name": "stderr",
     "output_type": "stream",
     "text": [
      "C:\\Users\\aprenard\\recherches\\repos\\fast-learning\\src\\utils\\utils_imaging.py:31: RuntimeWarning: Mean of empty slice\n",
      "  baseline = np.nanmean(arr[*slices], axis=time_axis, keepdims=True)\n",
      "c:\\Users\\aprenard\\Anaconda3\\envs\\fast-learning\\Lib\\site-packages\\openpyxl\\worksheet\\_read_only.py:81: UserWarning: Conditional Formatting extension is not supported and will be removed\n",
      "  for idx, row in parser.parse():\n"
     ]
    },
    {
     "name": "stdout",
     "output_type": "stream",
     "text": [
      "['GF307_17112020_080325', 'GF307_18112020_075939', 'GF307_19112020_083908', 'GF307_20112020_082942', 'GF307_21112020_102608']\n"
     ]
    },
    {
     "name": "stderr",
     "output_type": "stream",
     "text": [
      "c:\\Users\\aprenard\\Anaconda3\\envs\\fast-learning\\Lib\\site-packages\\numpy\\core\\fromnumeric.py:88: RuntimeWarning: overflow encountered in reduce\n",
      "  return ufunc.reduce(obj, axis, dtype, out, **passkwargs)\n",
      "C:\\Users\\aprenard\\recherches\\repos\\fast-learning\\src\\utils\\utils_imaging.py:31: RuntimeWarning: Mean of empty slice\n",
      "  baseline = np.nanmean(arr[*slices], axis=time_axis, keepdims=True)\n",
      "c:\\Users\\aprenard\\Anaconda3\\envs\\fast-learning\\Lib\\site-packages\\openpyxl\\worksheet\\_read_only.py:81: UserWarning: Conditional Formatting extension is not supported and will be removed\n",
      "  for idx, row in parser.parse():\n"
     ]
    },
    {
     "name": "stdout",
     "output_type": "stream",
     "text": [
      "['GF308_17112020_105052', 'GF308_18112020_093627', 'GF308_19112020_103527', 'GF308_20112020_122826', 'GF308_21112020_135515']\n"
     ]
    },
    {
     "name": "stderr",
     "output_type": "stream",
     "text": [
      "C:\\Users\\aprenard\\recherches\\repos\\fast-learning\\src\\utils\\utils_imaging.py:31: RuntimeWarning: Mean of empty slice\n",
      "  baseline = np.nanmean(arr[*slices], axis=time_axis, keepdims=True)\n",
      "c:\\Users\\aprenard\\Anaconda3\\envs\\fast-learning\\Lib\\site-packages\\openpyxl\\worksheet\\_read_only.py:81: UserWarning: Conditional Formatting extension is not supported and will be removed\n",
      "  for idx, row in parser.parse():\n"
     ]
    },
    {
     "name": "stdout",
     "output_type": "stream",
     "text": [
      "['GF310_17112020_132720', 'GF310_18112020_122252', 'GF310_19112020_131953', 'GF310_20112020_150929', 'GF310_21112020_160059']\n"
     ]
    },
    {
     "name": "stderr",
     "output_type": "stream",
     "text": [
      "C:\\Users\\aprenard\\recherches\\repos\\fast-learning\\src\\utils\\utils_imaging.py:31: RuntimeWarning: Mean of empty slice\n",
      "  baseline = np.nanmean(arr[*slices], axis=time_axis, keepdims=True)\n",
      "c:\\Users\\aprenard\\Anaconda3\\envs\\fast-learning\\Lib\\site-packages\\openpyxl\\worksheet\\_read_only.py:81: UserWarning: Conditional Formatting extension is not supported and will be removed\n",
      "  for idx, row in parser.parse():\n"
     ]
    },
    {
     "name": "stdout",
     "output_type": "stream",
     "text": [
      "['GF311_17112020_155501', 'GF311_18112020_151838', 'GF311_19112020_160412', 'GF311_20112020_171609', 'GF311_21112020_180049']\n"
     ]
    },
    {
     "name": "stderr",
     "output_type": "stream",
     "text": [
      "C:\\Users\\aprenard\\recherches\\repos\\fast-learning\\src\\utils\\utils_imaging.py:31: RuntimeWarning: Mean of empty slice\n",
      "  baseline = np.nanmean(arr[*slices], axis=time_axis, keepdims=True)\n",
      "c:\\Users\\aprenard\\Anaconda3\\envs\\fast-learning\\Lib\\site-packages\\openpyxl\\worksheet\\_read_only.py:81: UserWarning: Conditional Formatting extension is not supported and will be removed\n",
      "  for idx, row in parser.parse():\n"
     ]
    },
    {
     "name": "stdout",
     "output_type": "stream",
     "text": [
      "['GF313_27112020_141857', 'GF313_28112020_154236', 'GF313_29112020_154625', 'GF313_30112020_154904', 'GF313_03122020_082147']\n"
     ]
    },
    {
     "name": "stderr",
     "output_type": "stream",
     "text": [
      "C:\\Users\\aprenard\\recherches\\repos\\fast-learning\\src\\utils\\utils_imaging.py:31: RuntimeWarning: Mean of empty slice\n",
      "  baseline = np.nanmean(arr[*slices], axis=time_axis, keepdims=True)\n",
      "c:\\Users\\aprenard\\Anaconda3\\envs\\fast-learning\\Lib\\site-packages\\openpyxl\\worksheet\\_read_only.py:81: UserWarning: Conditional Formatting extension is not supported and will be removed\n",
      "  for idx, row in parser.parse():\n"
     ]
    },
    {
     "name": "stdout",
     "output_type": "stream",
     "text": [
      "['GF314_27112020_160459', 'GF314_28112020_171800', 'GF314_29112020_174831', 'GF314_30112020_171906', 'GF314_03122020_102249']\n"
     ]
    },
    {
     "name": "stderr",
     "output_type": "stream",
     "text": [
      "C:\\Users\\aprenard\\recherches\\repos\\fast-learning\\src\\utils\\utils_imaging.py:31: RuntimeWarning: Mean of empty slice\n",
      "  baseline = np.nanmean(arr[*slices], axis=time_axis, keepdims=True)\n",
      "c:\\Users\\aprenard\\Anaconda3\\envs\\fast-learning\\Lib\\site-packages\\openpyxl\\worksheet\\_read_only.py:81: UserWarning: Conditional Formatting extension is not supported and will be removed\n",
      "  for idx, row in parser.parse():\n"
     ]
    },
    {
     "name": "stdout",
     "output_type": "stream",
     "text": [
      "['GF317_15122020_081931', 'GF317_16122020_082007', 'GF317_17122020_080715', 'GF317_18122020_104834', 'GF317_20122020_120604']\n"
     ]
    },
    {
     "name": "stderr",
     "output_type": "stream",
     "text": [
      "C:\\Users\\aprenard\\recherches\\repos\\fast-learning\\src\\utils\\utils_imaging.py:31: RuntimeWarning: Mean of empty slice\n",
      "  baseline = np.nanmean(arr[*slices], axis=time_axis, keepdims=True)\n",
      "c:\\Users\\aprenard\\Anaconda3\\envs\\fast-learning\\Lib\\site-packages\\openpyxl\\worksheet\\_read_only.py:81: UserWarning: Conditional Formatting extension is not supported and will be removed\n",
      "  for idx, row in parser.parse():\n"
     ]
    },
    {
     "name": "stdout",
     "output_type": "stream",
     "text": [
      "['GF318_15122020_095616', 'GF318_16122020_095516', 'GF318_17122020_144100', 'GF318_18122020_132105', 'GF318_19122020_155806']\n"
     ]
    },
    {
     "name": "stderr",
     "output_type": "stream",
     "text": [
      "C:\\Users\\aprenard\\recherches\\repos\\fast-learning\\src\\utils\\utils_imaging.py:31: RuntimeWarning: Mean of empty slice\n",
      "  baseline = np.nanmean(arr[*slices], axis=time_axis, keepdims=True)\n",
      "c:\\Users\\aprenard\\Anaconda3\\envs\\fast-learning\\Lib\\site-packages\\openpyxl\\worksheet\\_read_only.py:81: UserWarning: Conditional Formatting extension is not supported and will be removed\n",
      "  for idx, row in parser.parse():\n"
     ]
    },
    {
     "name": "stdout",
     "output_type": "stream",
     "text": [
      "['GF323_07012021_092005', 'GF323_08012021_083725', 'GF323_09012021_111716', 'GF323_11012021_084126', 'GF323_12012021_090219']\n"
     ]
    },
    {
     "name": "stderr",
     "output_type": "stream",
     "text": [
      "C:\\Users\\aprenard\\recherches\\repos\\fast-learning\\src\\utils\\utils_imaging.py:31: RuntimeWarning: Mean of empty slice\n",
      "  baseline = np.nanmean(arr[*slices], axis=time_axis, keepdims=True)\n",
      "c:\\Users\\aprenard\\Anaconda3\\envs\\fast-learning\\Lib\\site-packages\\openpyxl\\worksheet\\_read_only.py:81: UserWarning: Conditional Formatting extension is not supported and will be removed\n",
      "  for idx, row in parser.parse():\n"
     ]
    },
    {
     "name": "stdout",
     "output_type": "stream",
     "text": [
      "['GF333_21012021_125450', 'GF333_22012021_135939', 'GF333_24012021_145617', 'GF333_25012021_141608', 'GF333_26012021_142304']\n"
     ]
    },
    {
     "name": "stderr",
     "output_type": "stream",
     "text": [
      "C:\\Users\\aprenard\\recherches\\repos\\fast-learning\\src\\utils\\utils_imaging.py:31: RuntimeWarning: Mean of empty slice\n",
      "  baseline = np.nanmean(arr[*slices], axis=time_axis, keepdims=True)\n",
      "c:\\Users\\aprenard\\Anaconda3\\envs\\fast-learning\\Lib\\site-packages\\openpyxl\\worksheet\\_read_only.py:81: UserWarning: Conditional Formatting extension is not supported and will be removed\n",
      "  for idx, row in parser.parse():\n"
     ]
    },
    {
     "name": "stdout",
     "output_type": "stream",
     "text": [
      "['GF334_21012021_160130', 'GF334_22012021_153815', 'GF334_24012021_173019', 'GF334_25012021_163843', 'GF334_26012021_171010']\n"
     ]
    },
    {
     "name": "stderr",
     "output_type": "stream",
     "text": [
      "C:\\Users\\aprenard\\recherches\\repos\\fast-learning\\src\\utils\\utils_imaging.py:31: RuntimeWarning: Mean of empty slice\n",
      "  baseline = np.nanmean(arr[*slices], axis=time_axis, keepdims=True)\n",
      "c:\\Users\\aprenard\\Anaconda3\\envs\\fast-learning\\Lib\\site-packages\\openpyxl\\worksheet\\_read_only.py:81: UserWarning: Conditional Formatting extension is not supported and will be removed\n",
      "  for idx, row in parser.parse():\n"
     ]
    },
    {
     "name": "stdout",
     "output_type": "stream",
     "text": [
      "['AR133_20240424_130306', 'AR133_20240425_115233', 'AR133_20240426_113430', 'AR133_20240427_142253', 'AR133_20240428_134911']\n"
     ]
    },
    {
     "name": "stderr",
     "output_type": "stream",
     "text": [
      "C:\\Users\\aprenard\\recherches\\repos\\fast-learning\\src\\utils\\utils_imaging.py:31: RuntimeWarning: Mean of empty slice\n",
      "  baseline = np.nanmean(arr[*slices], axis=time_axis, keepdims=True)\n",
      "c:\\Users\\aprenard\\Anaconda3\\envs\\fast-learning\\Lib\\site-packages\\openpyxl\\worksheet\\_read_only.py:81: UserWarning: Conditional Formatting extension is not supported and will be removed\n",
      "  for idx, row in parser.parse():\n"
     ]
    },
    {
     "name": "stdout",
     "output_type": "stream",
     "text": [
      "['AR135_20240424_160805', 'AR135_20240425_151948', 'AR135_20240426_133260', 'AR135_20240427_154417', 'AR135_20240428_150944']\n"
     ]
    },
    {
     "name": "stderr",
     "output_type": "stream",
     "text": [
      "C:\\Users\\aprenard\\recherches\\repos\\fast-learning\\src\\utils\\utils_imaging.py:31: RuntimeWarning: Mean of empty slice\n",
      "  baseline = np.nanmean(arr[*slices], axis=time_axis, keepdims=True)\n",
      "c:\\Users\\aprenard\\Anaconda3\\envs\\fast-learning\\Lib\\site-packages\\openpyxl\\worksheet\\_read_only.py:81: UserWarning: Conditional Formatting extension is not supported and will be removed\n",
      "  for idx, row in parser.parse():\n"
     ]
    },
    {
     "name": "stdout",
     "output_type": "stream",
     "text": [
      "['AR127_20240221_133407', 'AR127_20240222_152629', 'AR127_20240223_131820', 'AR127_20240224_140853', 'AR127_20240225_142858']\n"
     ]
    },
    {
     "name": "stderr",
     "output_type": "stream",
     "text": [
      "C:\\Users\\aprenard\\recherches\\repos\\fast-learning\\src\\utils\\utils_imaging.py:31: RuntimeWarning: Mean of empty slice\n",
      "  baseline = np.nanmean(arr[*slices], axis=time_axis, keepdims=True)\n",
      "c:\\Users\\aprenard\\Anaconda3\\envs\\fast-learning\\Lib\\site-packages\\openpyxl\\worksheet\\_read_only.py:81: UserWarning: Conditional Formatting extension is not supported and will be removed\n",
      "  for idx, row in parser.parse():\n"
     ]
    },
    {
     "name": "stdout",
     "output_type": "stream",
     "text": [
      "['AR143_20240518_174556', 'AR143_20240519_141725', 'AR143_20240520_130137', 'AR143_20240521_125833', 'AR143_20240522_172846']\n"
     ]
    },
    {
     "name": "stderr",
     "output_type": "stream",
     "text": [
      "C:\\Users\\aprenard\\recherches\\repos\\fast-learning\\src\\utils\\utils_imaging.py:31: RuntimeWarning: Mean of empty slice\n",
      "  baseline = np.nanmean(arr[*slices], axis=time_axis, keepdims=True)\n",
      "c:\\Users\\aprenard\\Anaconda3\\envs\\fast-learning\\Lib\\site-packages\\openpyxl\\worksheet\\_read_only.py:81: UserWarning: Conditional Formatting extension is not supported and will be removed\n",
      "  for idx, row in parser.parse():\n"
     ]
    },
    {
     "name": "stdout",
     "output_type": "stream",
     "text": [
      "['AR144_20240518_193553', 'AR144_20240519_151737', 'AR144_20240520_141104', 'AR144_20240521_142259', 'AR144_20240522_190834']\n"
     ]
    },
    {
     "name": "stderr",
     "output_type": "stream",
     "text": [
      "C:\\Users\\aprenard\\recherches\\repos\\fast-learning\\src\\utils\\utils_imaging.py:31: RuntimeWarning: Mean of empty slice\n",
      "  baseline = np.nanmean(arr[*slices], axis=time_axis, keepdims=True)\n"
     ]
    }
   ],
   "source": [
    "output_dir = r'//sv-nas1.rcp.epfl.ch/Petersen-Lab/analysis/Anthony_Renard/analysis_output/sensory_plasticity'\n",
    "pdf_file = f'global_correlation_matrices_{reward_group}.pdf'\n",
    "\n",
    "average_response = {}\n",
    "\n",
    "for mouse_id in mice:\n",
    "    session_list, nwb_files, _, db_filtered = io.select_sessions_from_db(db_path,\n",
    "                                                                        nwb_dir,\n",
    "                                                                        two_p_imaging='yes',\n",
    "                                                                        subject_id=mouse_id,\n",
    "                                                                        day=days,)\n",
    "    print(session_list)\n",
    "    data = []\n",
    "    for session_id in session_list:\n",
    "        arr, metadata = imaging_utils.load_session_2p_imaging(mouse_id,\n",
    "                                                            session_id,\n",
    "                                                            processed_dir)\n",
    "        arr = imaging_utils.substract_baseline(arr, 3, baseline_win)\n",
    "        data.append(arr)\n",
    "\n",
    "    # Select UM trials.\n",
    "    data = [arr[:, -1] for arr in data]\n",
    "    # Remove trials with NaNs.\n",
    "    data = [arr[:, ~np.isnan(arr).all(axis=(0,2))] for arr in data]\n",
    "\n",
    "    # Compute average response for each trial, each day.\n",
    "    average_response[mouse_id] = []\n",
    "    for day in data:\n",
    "        average_response[mouse_id].append(np.nanmean(day[:, :, win[0]:win[1]], axis=2))\n"
   ]
  },
  {
   "cell_type": "code",
   "execution_count": 61,
   "metadata": {},
   "outputs": [
    {
     "name": "stdout",
     "output_type": "stream",
     "text": [
      "[49, 50, 50, 49, 49, 50, 50, 50, 46, 50, 50, 50, 48, 48, 46, 49, 50, 50]\n",
      "[50, 50, 50, 50, 49, 50, 48, 50, 50, 49, 50, 50, 50, 49, 50, 49, 50, 50]\n",
      "[49, 50, 37, 50, 50, 48, 50, 48, 50, 50, 50, 50, 50, 50, 50, 50, 49, 50]\n",
      "[48, 49, 49, 50, 33, 50, 50, 50, 50, 48, 50, 43, 50, 47, 45, 49, 50, 48]\n",
      "[49, 50, 49, 49, 49, 50, 49, 50, 49, 50, 50, 49, 47, 44, 50, 49, 50, 47]\n"
     ]
    }
   ],
   "source": [
    "# Event the number of trials per days across mice.\n",
    "min_trials = []\n",
    "for iday in range(len(days)):\n",
    "    m = [data[iday].shape[1] for mouse, data in average_response.items()]\n",
    "    print(m)\n",
    "    min_trials.append(np.min(m))"
   ]
  },
  {
   "cell_type": "code",
   "execution_count": 62,
   "metadata": {},
   "outputs": [
    {
     "data": {
      "text/plain": [
       "['GF305',\n",
       " 'GF306',\n",
       " 'GF307',\n",
       " 'GF308',\n",
       " 'GF310',\n",
       " 'GF311',\n",
       " 'GF313',\n",
       " 'GF314',\n",
       " 'GF317',\n",
       " 'GF318',\n",
       " 'GF323',\n",
       " 'GF333',\n",
       " 'GF334',\n",
       " 'AR133',\n",
       " 'AR135',\n",
       " 'AR127',\n",
       " 'AR143',\n",
       " 'AR144']"
      ]
     },
     "execution_count": 62,
     "metadata": {},
     "output_type": "execute_result"
    }
   ],
   "source": [
    "mice"
   ]
  },
  {
   "cell_type": "code",
   "execution_count": null,
   "metadata": {},
   "outputs": [],
   "source": [
    "\n",
    "for mouse, data in average_response.items():\n",
    "    for iday in range(len(days)):\n",
    "        average_response[mouse][iday] = data[iday][:, :min_trials[iday]]\n",
    "       \n",
    "corr_matrix = np.concatenate([np.concatenate(data, axis=1) for mouse, data in average_response.items()], axis=0)\n",
    "corr_matrix = np.corrcoef(corr_matrix.T)\n",
    "# Remove diagonal for visualization.\n",
    "np.fill_diagonal(corr_matrix, 0)\n",
    "\n",
    "with PdfPages(os.path.join(output_dir, pdf_file)) as pdf:\n",
    "    plt.figure()\n",
    "    # vmin=-1\n",
    "    # vmax=1\n",
    "    # plt.imshow(corr_matrix, vmin=vmin, vmax=vmax)\n",
    "    plt.imshow(corr_matrix)\n",
    "    n_trials = [arr.shape[1] for arr in data]\n",
    "    for i in np.cumsum(n_trials)[:-1]:\n",
    "        plt.axvline(x=i-1, color='#252525', linestyle='-', lw=0.5)\n",
    "        plt.axhline(y=i-1, color='#252525', linestyle='-', lw=0.5)\n",
    "    plt.title(reward_group)\n",
    "    plt.colorbar()\n",
    "    pdf.savefig(dpi=300)\n",
    "    # plt.close()"
   ]
  },
  {
   "cell_type": "code",
   "execution_count": 59,
   "metadata": {},
   "outputs": [
    {
     "data": {
      "text/plain": [
       "(133, 46)"
      ]
     },
     "execution_count": 59,
     "metadata": {},
     "output_type": "execute_result"
    }
   ],
   "source": [
    "average_response['GF305'][0].shape"
   ]
  },
  {
   "cell_type": "code",
   "execution_count": 178,
   "metadata": {},
   "outputs": [
    {
     "data": {
      "text/plain": [
       "<matplotlib.colorbar.Colorbar at 0x207f56f5610>"
      ]
     },
     "execution_count": 178,
     "metadata": {},
     "output_type": "execute_result"
    }
   ],
   "source": [
    "from sklearn.metrics.pairwise import cosine_similarity\n",
    "\n",
    "sim = np.concatenate(response_avg, axis=1)\n",
    "sim = cosine_similarity(sim.T)\n",
    "\n",
    "\n",
    "plt.figure()\n",
    "# vmin=-1\n",
    "# vmax=1\n",
    "# plt.imshow(corr_matrix, vmin=vmin, vmax=vmax)\n",
    "plt.imshow(sim)\n",
    "n_trials = [arr.shape[1] for arr in data]\n",
    "for i in np.cumsum(n_trials)[:-1]:\n",
    "    plt.axvline(x=i, color='#252525', linestyle='-',)\n",
    "    plt.axhline(y=i, color='#252525', linestyle='-',)\n",
    "plt.title(mouse_id)\n",
    "\n",
    "plt.colorbar()"
   ]
  },
  {
   "cell_type": "markdown",
   "metadata": {},
   "source": [
    "### 1.3. Functional maps across learning days\n",
    "\n",
    "- amplitude of response\n",
    "- significance levels (p-value maps)\n",
    "- LMI"
   ]
  },
  {
   "cell_type": "code",
   "execution_count": 131,
   "metadata": {},
   "outputs": [
    {
     "name": "stdout",
     "output_type": "stream",
     "text": [
      "['GF305', 'GF306', 'GF307', 'GF308', 'GF310', 'GF311', 'GF313', 'GF314', 'GF317', 'GF318', 'GF323', 'GF333', 'GF334', 'AR133', 'AR135', 'AR127', 'AR143', 'AR144']\n"
     ]
    },
    {
     "name": "stderr",
     "output_type": "stream",
     "text": [
      "c:\\Users\\aprenard\\Anaconda3\\envs\\fast-learning\\Lib\\site-packages\\openpyxl\\worksheet\\_read_only.py:81: UserWarning: Conditional Formatting extension is not supported and will be removed\n",
      "  for idx, row in parser.parse():\n"
     ]
    }
   ],
   "source": [
    "# Load data needed to compute before and after learning.\n",
    "\n",
    "sampling_rate = 30\n",
    "win = (1, 1.5)  # from stimulus onset to 300 ms after.\n",
    "win = (int(win[0] * sampling_rate), int(win[1] * sampling_rate))\n",
    "baseline_win = (0, 1)\n",
    "baseline_win = (int(baseline_win[0] * sampling_rate), int(baseline_win[1] * sampling_rate))\n",
    "reward_group = 'R+'\n",
    "\n",
    "_, _, mice, _ = io.select_sessions_from_db(db_path,\n",
    "                                            nwb_dir,\n",
    "                                            two_p_imaging='yes',\n",
    "                                            reward_group=reward_group)\n",
    "print(mice)"
   ]
  },
  {
   "cell_type": "code",
   "execution_count": null,
   "metadata": {},
   "outputs": [],
   "source": [
    "output_dir = r'//sv-nas1.rcp.epfl.ch/Petersen-Lab/analysis/Anthony_Renard/analysis_output/functional_maps'\n",
    "pdf_file = f'functional_maps_{reward_group}.pdf'\n",
    "with PdfPages(os.path.join(output_dir, pdf_file)) as pdf:\n",
    "    for mouse_id in mice:\n",
    "        print(mouse_id)\n",
    "        session_list, nwb_files, _, db_filtered = io.select_sessions_from_db(db_path,\n",
    "                                                                            nwb_dir,\n",
    "                                                                            two_p_imaging='yes',\n",
    "                                                                            day=days,\n",
    "                                                                            subject_id=mouse_id)\n",
    "        print(session_list)\n",
    "        data = []\n",
    "        for session_id in session_list:\n",
    "            arr, metadata = imaging_utils.load_session_2p_imaging(mouse_id,\n",
    "                                                                session_id,\n",
    "                                                                processed_dir)\n",
    "            arr = imaging_utils.substract_baseline(arr, 3, baseline_win)\n",
    "            data.append(arr)\n",
    "\n",
    "        # Select UM trials.\n",
    "        data = [arr[:, -1] for arr in data]\n",
    "        # Remove trials with NaNs.\n",
    "        data = [arr[:, ~np.isnan(arr).all(axis=(0,2))] for arr in data]\n",
    "\n",
    "        # Load image masks.\n",
    "        roi_masks = nwb_read.get_image_mask(nwb_files[0])\n",
    "        roi_masks = np.stack(roi_masks, axis=0)\n",
    "        \n",
    "        # Compute significance map.\n",
    "        # -------------------------\n",
    "        \n",
    "        # Compute average response and baseline for each trial, each day.\n",
    "        baseline_avg = []\n",
    "        response_avg = []\n",
    "        for day in data:\n",
    "            baseline_avg.append(np.nanmean(day[:, :, baseline_win[0]:baseline_win[1]], axis=2))\n",
    "            response_avg.append(np.nanmean(day[:, :, win[0]:win[1]], axis=2))\n",
    "\n",
    "        # Compare response amplitude to baseline.\n",
    "        n_cells = data[0].shape[0]\n",
    "        p_values = [np.zeros(n_cells) for _ in range(len(data))]\n",
    "        for iday, day in enumerate(data):\n",
    "            for icell in range(n_cells):\n",
    "                _, p_values[iday][icell] = wilcoxon(baseline_avg[iday][icell], response_avg[iday][icell])\n",
    "        p_values = np.stack(p_values, axis=0)\n",
    "\n",
    "        # Categories p-values.\n",
    "        p_values_masks = np.copy(p_values)\n",
    "        p_values_masks[p_values>0.05] = 1\n",
    "        p_values_masks[p_values<=0.05] = 2\n",
    "        p_values_masks[p_values<=0.01] = 3\n",
    "        p_values_masks[p_values<=0.001] = 4\n",
    "        \n",
    "        map_significance = []\n",
    "        for iday in range(5):\n",
    "            maps = roi_masks * p_values_masks[iday, :, None, None]\n",
    "            map_significance.append(np.max(maps, axis=0))\n",
    "            \n",
    "        \n",
    "        # Compute amplitude map.\n",
    "        # ----------------------\n",
    "        \n",
    "        # Compute average response amplitude for each cell.\n",
    "        response_amplitude = []\n",
    "        for day in response_avg:\n",
    "            response_amplitude.append(np.nanmean(day, axis=1))\n",
    "        response_amplitude = np.stack(response_amplitude, axis=0)\n",
    "        \n",
    "        map_amplitude = []\n",
    "        for iday in range(5):\n",
    "            maps = roi_masks * response_amplitude[iday, :, None, None]\n",
    "            map_amplitude.append(np.max(maps, axis=0))\n",
    "    \n",
    "\n",
    "        # Plot maps.\n",
    "        # ----------\n",
    "        \n",
    "        f, axes = plt.subplots(2,5, figsize=(20, 8), sharex=True, sharey=True)\n",
    "        \n",
    "        # Plot amplitude maps.\n",
    "        cmap = sns.color_palette(\"viridis\", as_cmap=True)\n",
    "        # vmin = np.nanmin(response_amplitude)\n",
    "        vmin = 0\n",
    "        vmax = np.percentile(response_amplitude, 98)\n",
    "        \n",
    "        for iday in range(5):\n",
    "            a = axes[0,iday].imshow(map_amplitude[iday],\n",
    "                                interpolation='nearest',\n",
    "                                cmap=cmap,\n",
    "                                vmin=vmin, vmax=vmax)\n",
    "        cbar_ax = f.add_axes([.91,.124,.04,.754])\n",
    "        f.colorbar(a, cax=cbar_ax, location='right')\n",
    "        \n",
    "        \n",
    "        cmap = ['white', '#d9d9d9', '#fdbb84', '#ef6548', '#990000']\n",
    "        cmap = colors.ListedColormap(cmap)\n",
    "        bounds = range(cmap.N+1)\n",
    "        norm = colors.BoundaryNorm(bounds, cmap.N)\n",
    "        # Plot responsivity maps.\n",
    "        for iday in range(5):\n",
    "            axes[1, iday].imshow(map_significance[iday], cmap=cmap, norm=norm, interpolation='nearest')\n",
    "            # axes[iday].imshow(map_significance[iday])\n",
    "            \n",
    "        plt.suptitle(mouse_id)\n",
    "        pdf.savefig()\n",
    "        plt.close()\n",
    "\n",
    "\n"
   ]
  },
  {
   "cell_type": "markdown",
   "metadata": {},
   "source": [
    "## Learning modulation index (LMI)\n",
    "\n",
    "Computing LMI maps.\n",
    "\n",
    "What else other than maps do we want to look at? \n"
   ]
  },
  {
   "cell_type": "markdown",
   "metadata": {},
   "source": [
    "Check what is quantified in Drieu et al. to conclude no sensory plasticity.\n",
    "- Number of neurons responsive across days.\n",
    "- Variability of the response across days. But how to compute that? Correlation of the pop vector across trials could work well or cell by cell?\n",
    "- Recompute the variability of the response. \n"
   ]
  },
  {
   "cell_type": "code",
   "execution_count": null,
   "metadata": {},
   "outputs": [],
   "source": []
  }
 ],
 "metadata": {
  "kernelspec": {
   "display_name": "fast-learning",
   "language": "python",
   "name": "python3"
  },
  "language_info": {
   "codemirror_mode": {
    "name": "ipython",
    "version": 3
   },
   "file_extension": ".py",
   "mimetype": "text/x-python",
   "name": "python",
   "nbconvert_exporter": "python",
   "pygments_lexer": "ipython3",
   "version": "3.12.1"
  }
 },
 "nbformat": 4,
 "nbformat_minor": 2
}
